{
 "cells": [
  {
   "cell_type": "code",
   "execution_count": 9,
   "metadata": {},
   "outputs": [
    {
     "name": "stdout",
     "output_type": "stream",
     "text": [
      "5 <D_DoubleLinkedList.TwoWayNode object at 0x000001F2FABA8430> <D_DoubleLinkedList.TwoWayNode object at 0x000001F2FAAB0910>\n",
      "1 <D_DoubleLinkedList.TwoWayNode object at 0x000001F2FAAB0910> <D_DoubleLinkedList.TwoWayNode object at 0x000001F2FA746F40>\n",
      "2 <D_DoubleLinkedList.TwoWayNode object at 0x000001F2FA746F40> <D_DoubleLinkedList.TwoWayNode object at 0x000001F2FAAB0850>\n",
      "3 <D_DoubleLinkedList.TwoWayNode object at 0x000001F2FAAB0850> <D_DoubleLinkedList.TwoWayNode object at 0x000001F2FBD39640>\n",
      "4 <D_DoubleLinkedList.TwoWayNode object at 0x000001F2FBD39640> <D_DoubleLinkedList.TwoWayNode object at 0x000001F2FABA8430>\n",
      "5 <D_DoubleLinkedList.TwoWayNode object at 0x000001F2FABA8430> <D_DoubleLinkedList.TwoWayNode object at 0x000001F2FAAB0910>\n",
      "1 <D_DoubleLinkedList.TwoWayNode object at 0x000001F2FAAB0910> <D_DoubleLinkedList.TwoWayNode object at 0x000001F2FA746F40>\n",
      "2 <D_DoubleLinkedList.TwoWayNode object at 0x000001F2FA746F40> <D_DoubleLinkedList.TwoWayNode object at 0x000001F2FAAB0850>\n",
      "3 <D_DoubleLinkedList.TwoWayNode object at 0x000001F2FAAB0850> <D_DoubleLinkedList.TwoWayNode object at 0x000001F2FBD39640>\n",
      "4 <D_DoubleLinkedList.TwoWayNode object at 0x000001F2FBD39640> <D_DoubleLinkedList.TwoWayNode object at 0x000001F2FABA8430>\n"
     ]
    }
   ],
   "source": [
    "from D_DoubleLinkedList import TwoWayNode\n",
    "\n",
    "head = TwoWayNode(1)\n",
    "tail = head\n",
    "tail.next = head\n",
    "\n",
    "for data in range(2,6):\n",
    "    # data, previous\n",
    "    tail.next = TwoWayNode(data, tail, tail.next)\n",
    "    tail = tail.next\n",
    "\n",
    "probe = tail\n",
    "# while probe!= None:\n",
    "#     print(probe.data, probe, probe.next)\n",
    "#     probe = probe.previous\n",
    "\n",
    "for _ in range(10):\n",
    "    print(probe.data, probe, probe.next)\n",
    "    probe = probe.next\n"
   ]
  }
 ],
 "metadata": {
  "kernelspec": {
   "display_name": "py39",
   "language": "python",
   "name": "python3"
  },
  "language_info": {
   "codemirror_mode": {
    "name": "ipython",
    "version": 3
   },
   "file_extension": ".py",
   "mimetype": "text/x-python",
   "name": "python",
   "nbconvert_exporter": "python",
   "pygments_lexer": "ipython3",
   "version": "3.9.16"
  },
  "orig_nbformat": 4
 },
 "nbformat": 4,
 "nbformat_minor": 2
}
