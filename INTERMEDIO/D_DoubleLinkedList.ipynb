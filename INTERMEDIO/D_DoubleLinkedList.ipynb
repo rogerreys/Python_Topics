{
 "cells": [
  {
   "cell_type": "code",
   "execution_count": 9,
   "metadata": {},
   "outputs": [
    {
     "name": "stdout",
     "output_type": "stream",
     "text": [
      "5\n",
      "4\n",
      "3\n",
      "2\n",
      "1\n"
     ]
    }
   ],
   "source": [
    "from D_DoubleLinkedList import TwoWayNode\n",
    "\n",
    "head = TwoWayNode(1)\n",
    "head.next = head\n",
    "tail = head\n",
    "for data in range(2,6):\n",
    "    # data, previous\n",
    "    tail.next = TwoWayNode(data, tail)\n",
    "    tail = tail.next\n",
    "\n",
    "probe = tail\n",
    "while probe!= None:\n",
    "    print(probe.data)\n",
    "    probe = probe.previous\n",
    "\n"
   ]
  }
 ],
 "metadata": {
  "kernelspec": {
   "display_name": "py39",
   "language": "python",
   "name": "python3"
  },
  "language_info": {
   "codemirror_mode": {
    "name": "ipython",
    "version": 3
   },
   "file_extension": ".py",
   "mimetype": "text/x-python",
   "name": "python",
   "nbconvert_exporter": "python",
   "pygments_lexer": "ipython3",
   "version": "3.9.16"
  },
  "orig_nbformat": 4
 },
 "nbformat": 4,
 "nbformat_minor": 2
}
