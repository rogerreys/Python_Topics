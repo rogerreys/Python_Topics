{
 "cells": [
  {
   "attachments": {},
   "cell_type": "markdown",
   "metadata": {},
   "source": [
    "# Queues\n",
    "- FIFO (First-in First-Out)\n",
    "- Rear: Ultimo elemento\n",
    "- Front: Primer elemento\n",
    "\n",
    "## Priority queues: \n",
    "Se basa en FIFO con elementos de mayor/menor prioridad\n",
    "eje: pasa de primera clase, en hospital se atiende primero segun su urgencia\n",
    "\n",
    "pop(): remover front\n",
    "add(): añadir a rear"
   ]
  },
  {
   "cell_type": "code",
   "execution_count": 2,
   "metadata": {},
   "outputs": [
    {
     "name": "stdout",
     "output_type": "stream",
     "text": [
      "gaseosa\n",
      "chifles\n",
      "taco\n"
     ]
    }
   ],
   "source": [
    "from F_listBasedQueue import ListQueue\n",
    "\n",
    "snack = ListQueue()\n",
    "snack.enqueue(\"taco\")\n",
    "snack.enqueue(\"chifles\")\n",
    "snack.enqueue(\"gaseosa\")\n",
    "snack.traversel()"
   ]
  },
  {
   "attachments": {},
   "cell_type": "markdown",
   "metadata": {},
   "source": [
    "## Dos stacks"
   ]
  },
  {
   "cell_type": "code",
   "execution_count": 3,
   "metadata": {},
   "outputs": [
    {
     "name": "stdout",
     "output_type": "stream",
     "text": [
      "[4, 5, 6, 7, 8] []\n",
      "4\n",
      "[] [8, 7, 6, 5]\n",
      "[] [8, 7, 6]\n",
      "[] [8, 7]\n"
     ]
    }
   ],
   "source": [
    "from F_StackBasedQueue import Queue\n",
    "\n",
    "data = Queue()\n",
    "data.enqueue(4)\n",
    "data.enqueue(5)\n",
    "data.enqueue(6)\n",
    "data.enqueue(7)\n",
    "data.enqueue(8)\n",
    "print(data.inbound_stack, data.outbound_stack)\n",
    "print(data.dequeue())\n",
    "print(data.inbound_stack, data.outbound_stack)\n",
    "print(data.dequeue())\n",
    "print(data.inbound_stack, data.outbound_stack)\n",
    "print(data.dequeue())\n",
    "print(data.inbound_stack, data.outbound_stack)"
   ]
  },
  {
   "attachments": {},
   "cell_type": "markdown",
   "metadata": {},
   "source": [
    "# Queue basada en nodos\n",
    "- Agregar y eliminar elementos son 0(1)\n",
    "- Usando doubly linked list\n"
   ]
  },
  {
   "cell_type": "code",
   "execution_count": 2,
   "metadata": {},
   "outputs": [
    {
     "name": "stdout",
     "output_type": "stream",
     "text": [
      "Popcorn\n",
      "Milk Bread\n",
      "2\n"
     ]
    }
   ],
   "source": [
    "from F_NodeBasedQueue import Queue\n",
    "\n",
    "data = Queue()\n",
    "data.enqueue(\"Popcorn\")\n",
    "data.enqueue(\"Bread\")\n",
    "data.enqueue(\"Milk\")\n",
    "print(data.head.data)\n",
    "data.dequeue()\n",
    "# print(data.head.data)\n",
    "# data.dequeue()\n",
    "# print(data.head.data)\n",
    "print(data.tail.data, data.tail.previous.data)\n",
    "print(data.count)"
   ]
  }
 ],
 "metadata": {
  "kernelspec": {
   "display_name": "py39",
   "language": "python",
   "name": "python3"
  },
  "language_info": {
   "codemirror_mode": {
    "name": "ipython",
    "version": 3
   },
   "file_extension": ".py",
   "mimetype": "text/x-python",
   "name": "python",
   "nbconvert_exporter": "python",
   "pygments_lexer": "ipython3",
   "version": "3.9.16"
  },
  "orig_nbformat": 4
 },
 "nbformat": 4,
 "nbformat_minor": 2
}
