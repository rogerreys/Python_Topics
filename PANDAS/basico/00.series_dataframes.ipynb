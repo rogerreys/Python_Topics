{
 "cells": [
  {
   "attachments": {},
   "cell_type": "markdown",
   "metadata": {},
   "source": [
    "# Series"
   ]
  },
  {
   "cell_type": "code",
   "execution_count": 3,
   "metadata": {},
   "outputs": [],
   "source": [
    "import pandas as pd"
   ]
  },
  {
   "cell_type": "code",
   "execution_count": 17,
   "metadata": {},
   "outputs": [
    {
     "name": "stdout",
     "output_type": "stream",
     "text": [
      "Index\n",
      " 1      Navas\n",
      "7      Mbape\n",
      "10    Neynar\n",
      "30     Messi\n",
      "dtype: object\n",
      "Index Defaul\n",
      " 0     Navas\n",
      "1     Mbape\n",
      "2    Neynar\n",
      "3     Messi\n",
      "dtype: object\n"
     ]
    }
   ],
   "source": [
    "print(\"Index\\n\", pd.Series(['Navas', 'Mbape','Neynar', 'Messi'], index=[1,7,10,30]))\n",
    "print(\"Index Defaul\\n\", pd.Series(['Navas', 'Mbape','Neynar', 'Messi']))\n",
    "players = pd.Series(['Navas', 'Mbape','Neynar', 'Messi'], index=[1,7,10,30])\n"
   ]
  },
  {
   "cell_type": "code",
   "execution_count": 18,
   "metadata": {},
   "outputs": [
    {
     "name": "stdout",
     "output_type": "stream",
     "text": [
      "1      Navas\n",
      "7      Mbape\n",
      "10    Neymar\n",
      "30     Messi\n",
      "dtype: object\n"
     ]
    }
   ],
   "source": [
    "# Definir un serie\n",
    "dir = {1: 'Navas', 7:'Mbape', 10:'Neymar', 30:'Messi'}\n",
    "players_b = pd.Series(dir)\n",
    "print(players_b)"
   ]
  },
  {
   "attachments": {},
   "cell_type": "markdown",
   "metadata": {},
   "source": [
    "# Dataframe"
   ]
  },
  {
   "cell_type": "code",
   "execution_count": 26,
   "metadata": {},
   "outputs": [
    {
     "name": "stdout",
     "output_type": "stream",
     "text": [
      "Index\n",
      "    Jugador  Altura  Goles\n",
      "1    Navas   183.0      2\n",
      "7    Mbape   170.0    200\n",
      "10  Neynar   170.0    100\n",
      "30   Messi   165.0    300\n",
      "Index Default\n",
      "   Jugador  Altura  Goles\n",
      "0   Navas   183.0      2\n",
      "1   Mbape   170.0    200\n",
      "2  Neynar   170.0    100\n",
      "3   Messi   165.0    300\n",
      "\n",
      "\n",
      "INDICES\n",
      "Indice en columna  Index(['Jugador', 'Altura', 'Goles'], dtype='object')\n",
      "Indice en filas  Int64Index([1, 7, 10, 30], dtype='int64')\n"
     ]
    }
   ],
   "source": [
    "dic = {'Jugador':['Navas', 'Mbape','Neynar', 'Messi'],\n",
    "'Altura':[183.0,170.0,170.0,165.0],\n",
    "'Goles':[2,200,100,300]\n",
    "}\n",
    "print(\"Index\\n\", pd.DataFrame(dic, index=[1,7,10,30]))\n",
    "print(\"Index Default\\n\", pd.DataFrame(dic))\n",
    "df = pd.DataFrame(dic, index=[1,7,10,30])\n",
    "\n",
    "print(\"\\n\\nINDICES\")\n",
    "print(\"Indice en columna \", df.columns)\n",
    "print(\"Indice en filas \", df.index)"
   ]
  }
 ],
 "metadata": {
  "kernelspec": {
   "display_name": "py39",
   "language": "python",
   "name": "python3"
  },
  "language_info": {
   "codemirror_mode": {
    "name": "ipython",
    "version": 3
   },
   "file_extension": ".py",
   "mimetype": "text/x-python",
   "name": "python",
   "nbconvert_exporter": "python",
   "pygments_lexer": "ipython3",
   "version": "3.9.16"
  },
  "orig_nbformat": 4,
  "vscode": {
   "interpreter": {
    "hash": "8774d1c108ba2c4e66a48cedc9122600b0b789622c9e14bae49099cba0407836"
   }
  }
 },
 "nbformat": 4,
 "nbformat_minor": 2
}
