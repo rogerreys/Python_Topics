{
 "cells": [
  {
   "cell_type": "markdown",
   "id": "ab2e6ab4",
   "metadata": {},
   "source": [
    "# PIP\n",
    "Comando para instalar\n",
    "```sh\n",
    "pip install matplotlib\n",
    "```\n",
    "Comando para ver las librerias con versiones\n",
    "```sh\n",
    "pip3 freeze\n",
    "```\n",
    "\n",
    "```sh\n",
    "```"
   ]
  },
  {
   "cell_type": "markdown",
   "id": "a0a2b856",
   "metadata": {},
   "source": [
    "# Virtualizar python\n",
    "Programa para virtualizar\n",
    "```sh\n",
    "    sudo apt install -y python3-venv\n",
    "```\n",
    "EL comando para virtualizar un proyecto es\n",
    "```sh\n",
    "    pwd\n",
    "    python3 -m venv my-env\n",
    "```\n",
    "Se creara una carpeta con el nombre que se coloco (my-env), para activar se usa el siguiente comando\n",
    "```sh\n",
    "    source my-env/bin/activate\n",
    "```\n",
    "Para desactivar la virtualizacion\n",
    "```sh\n",
    "    deactivate\n",
    "```"
   ]
  },
  {
   "cell_type": "markdown",
   "id": "80a3c891",
   "metadata": {},
   "source": [
    "# Requirements\n",
    "Archivo que lista todas las dependencias que usa el proyecto\n",
    "Crear el archivo\n",
    "```sh\n",
    "    pip3 freeze > requirements.txt\n",
    "```\n",
    "Para instalar las depedencias del archivo\n",
    "```sh\n",
    "    pip3 install -r requirements.txt\n",
    "```"
   ]
  },
  {
   "cell_type": "markdown",
   "id": "430574ae",
   "metadata": {},
   "source": [
    "# Docker\n",
    "Se requiere crear el programa Dockerfile\n",
    "```sh\n",
    "    FROM python:3.8\n",
    "\n",
    "    WORKDIR /app\n",
    "    COPY requirements.txt /app/requirements.txt\n",
    "\n",
    "    RUN pip install --no-cache-dir --upgrade -r /app/requirements.txt\n",
    "\n",
    "    COPY . / app/\n",
    "\n",
    "    CMD bash -c \"while true; do sleep 1; done\"\n",
    "```\n",
    "- FROM: nos proporciona una imagen base con ubuntu:18.04.\n",
    "- COPY: añade archivos desde nuestro directorio local.\n",
    "- RUN: crea la aplicación con make.ubuntu:18.04\n",
    "- CMD: specifica que comandos queremos ejecutar en el contenedor.\n",
    "\n",
    "## Comandos\n",
    "Construir el contenedor\n",
    "```sh\n",
    "docker compose build\n",
    "```\n",
    "Para lanzar y iniciar el contenedor\n",
    "```sh\n",
    "docker compose up -d\n",
    "```\n",
    "Para ver el estado del contenedor\n",
    "```sh\n",
    "docker compose ps\n",
    "```\n",
    "Para ingresar al ambiente\n",
    "```sh\n",
    "docker compose exec app-csv bash\n",
    "```\n",
    "Un comando util para enlazar archivos con el contenedor\n",
    "```sh\n",
    "volumes:\n",
    "      - .:/app\n",
    "```"
   ]
  },
  {
   "cell_type": "markdown",
   "id": "68daf7f0",
   "metadata": {},
   "source": []
  }
 ],
 "metadata": {
  "kernelspec": {
   "display_name": "Python 3 (ipykernel)",
   "language": "python",
   "name": "python3"
  },
  "language_info": {
   "codemirror_mode": {
    "name": "ipython",
    "version": 3
   },
   "file_extension": ".py",
   "mimetype": "text/x-python",
   "name": "python",
   "nbconvert_exporter": "python",
   "pygments_lexer": "ipython3",
   "version": "3.9.13"
  }
 },
 "nbformat": 4,
 "nbformat_minor": 5
}
