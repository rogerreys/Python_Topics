{
 "cells": [
  {
   "cell_type": "markdown",
   "id": "a0a2b856",
   "metadata": {},
   "source": [
    "# Virtualizar python\n",
    "Programa para virtualizar\n",
    "\n",
    "    sudo apt install -y python3-venv\n",
    "\n",
    "EL comando para virtualizar un proyecto es\n",
    "\n",
    "    pwd\n",
    "    python3 -m venv my-env\n",
    "\n",
    "Se creara una carpeta con el nombre que se coloco (my-env), para activar se usa el siguiente comando\n",
    "\n",
    "    source my-env/bin/activate\n",
    "\n",
    "Para desactivar la virtualizacion\n",
    "\n",
    "    deactivate"
   ]
  },
  {
   "cell_type": "markdown",
   "id": "80a3c891",
   "metadata": {},
   "source": [
    "# Requirements\n",
    "Archivo que lista todas las dependencias que usa el proyecto\n",
    "Crear el archivo\n",
    "\n",
    "    pip3 freeze > requirements.txt\n",
    "\n",
    "Para instalar las depedencias del archivo\n",
    "\n",
    "    pip3 install -r requirements.txt"
   ]
  }
 ],
 "metadata": {
  "kernelspec": {
   "display_name": "Python 3 (ipykernel)",
   "language": "python",
   "name": "python3"
  },
  "language_info": {
   "codemirror_mode": {
    "name": "ipython",
    "version": 3
   },
   "file_extension": ".py",
   "mimetype": "text/x-python",
   "name": "python",
   "nbconvert_exporter": "python",
   "pygments_lexer": "ipython3",
   "version": "3.9.13"
  }
 },
 "nbformat": 4,
 "nbformat_minor": 5
}
