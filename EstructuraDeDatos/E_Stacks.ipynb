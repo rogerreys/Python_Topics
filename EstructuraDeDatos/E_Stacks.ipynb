{
 "cells": [
  {
   "attachments": {},
   "cell_type": "markdown",
   "metadata": {},
   "source": [
    "# Que son\n",
    "- Coleccion lineal\n",
    "- Basados en arrays o linked lists\n",
    "- LIFO (last-in-first-out)\n",
    "- Añadir: push\n",
    "- Remover: pop\n",
    "- top\n",
    "- bottom"
   ]
  },
  {
   "cell_type": "code",
   "execution_count": 4,
   "metadata": {},
   "outputs": [
    {
     "data": {
      "text/plain": [
       "'Coffee Ham Egg'"
      ]
     },
     "execution_count": 4,
     "metadata": {},
     "output_type": "execute_result"
    }
   ],
   "source": [
    "from E_Stack import Stack\n",
    "food = Stack()\n",
    "food.push(\"Egg\")\n",
    "food.push(\"Ham\")\n",
    "food.push(\"Coffee\")\n",
    "\n",
    "# food.pop()\n",
    "# food.size\n",
    "# food.peek()\n",
    "# food.clear()\n",
    "# food.size\n",
    "food.search(\"Ham\")\n",
    "food.getDatas()\n"
   ]
  },
  {
   "cell_type": "code",
   "execution_count": 1,
   "metadata": {},
   "outputs": [
    {
     "data": {
      "text/plain": [
       "'IBM Chevrolet Toyota'"
      ]
     },
     "execution_count": 1,
     "metadata": {},
     "output_type": "execute_result"
    }
   ],
   "source": [
    "from E_StackArray import StackArray\n",
    "\n",
    "cars = StackArray(5)\n",
    "cars.push(\"IBM\")\n",
    "cars.push(\"Chevrolet\")\n",
    "cars.push(\"Toyota\")\n",
    "cars.getData()\n"
   ]
  }
 ],
 "metadata": {
  "kernelspec": {
   "display_name": "py39",
   "language": "python",
   "name": "python3"
  },
  "language_info": {
   "codemirror_mode": {
    "name": "ipython",
    "version": 3
   },
   "file_extension": ".py",
   "mimetype": "text/x-python",
   "name": "python",
   "nbconvert_exporter": "python",
   "pygments_lexer": "ipython3",
   "version": "3.9.16"
  },
  "orig_nbformat": 4
 },
 "nbformat": 4,
 "nbformat_minor": 2
}
