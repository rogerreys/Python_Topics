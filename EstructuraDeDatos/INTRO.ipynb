{
 "cells": [
  {
   "attachments": {},
   "cell_type": "markdown",
   "metadata": {},
   "source": [
    "# Que es una coleccion\n",
    "Grupo de cero o mas elementos que pueden tratarse como una unidad conceptual\n",
    "\n",
    "- Non-zero value\n",
    "- 0\n",
    "- null\n",
    "- undefined\n",
    "\n",
    "## Tipos de colecciones\n",
    "- Dinamicas \n",
    "- Inmutables\n",
    "\n",
    "### Lineales \n",
    "- Ordenadas por su posicion\n",
    "- Solo el primer elemento NO tiene predecesor\n",
    "\n",
    "D1-D2-D3-D4-D5\n",
    "\n",
    "- Fila en el supermercado\n",
    "- Pilas de platos\n",
    "- Checklist\n",
    "\n",
    "### Jerarquicas\n",
    "- Ordenados como arbol invertido\n",
    "- Solo el primer elemento NO tiene predecesor\n",
    "- Padres e hijos\n",
    "\n",
    "ejem: Sistema de directorios, indices de libros \n",
    "\n",
    "### Grafos\n",
    "- Cada dato puede tener varios predecesores y sucesores\n",
    "- Estos se llaman 'vecinos'\n",
    "\n",
    "\n",
    "### Desordenadas\n",
    "- No tienen orden particular\n",
    "- No hay predecesores o sucesores\n",
    "\n",
    "### Ordenadas \n",
    "- Impone un orden con una regla \n",
    "$item_i <= item_{i+1}$\n",
    "\n",
    "<img src=\"https://static.platzi.com/media/user_upload/2022-08-15%20%282%29-6a25edb2-5501-4852-a9e6-53e3287f944d.jpg\">"
   ]
  },
  {
   "attachments": {},
   "cell_type": "markdown",
   "metadata": {},
   "source": [
    "# Operaciones\n",
    "- Concatenacion\n",
    "- Conversion de tipo\n",
    "- Insertar\n",
    "- Remover \n",
    "- Reemplazar \n",
    "- Acceder"
   ]
  },
  {
   "cell_type": "code",
   "execution_count": 6,
   "metadata": {},
   "outputs": [
    {
     "data": {
      "text/plain": [
       "['Berry', 'Melon']"
      ]
     },
     "execution_count": 6,
     "metadata": {},
     "output_type": "execute_result"
    }
   ],
   "source": [
    "fruits = []\n",
    "fruits.append(\"kiwi\")\n",
    "fruits.append(\"Berry\")\n",
    "fruits.append(\"Melon\")\n",
    "fruits.sort()\n",
    "fruits\n",
    "fruits.pop()\n",
    "fruits\n",
    "fruits.insert(0, 'Apple')\n",
    "fruits\n",
    "fruits.remove(\"Apple\")\n",
    "fruits"
   ]
  },
  {
   "cell_type": "code",
   "execution_count": 8,
   "metadata": {},
   "outputs": [
    {
     "name": "stdout",
     "output_type": "stream",
     "text": [
      " 1 4\n",
      "     2 4\n",
      "         3 4\n",
      "             4 4\n",
      "                 5 4\n",
      "                 0\n",
      "             4\n",
      "         7\n",
      "     9\n",
      " 10\n"
     ]
    },
    {
     "data": {
      "text/plain": [
       "10"
      ]
     },
     "execution_count": 8,
     "metadata": {},
     "output_type": "execute_result"
    }
   ],
   "source": [
    "def pyramid(lower, upper, margin=0):\n",
    "    blank = \" \"* margin\n",
    "    print(blank,lower, upper)\n",
    "    if lower > upper:\n",
    "        print(blank, 0)\n",
    "        return 0\n",
    "    else: \n",
    "        res = lower + pyramid(lower+1, upper, margin+4)\n",
    "        print(blank, res)\n",
    "        return res\n",
    "pyramid(1,4)"
   ]
  },
  {
   "attachments": {},
   "cell_type": "markdown",
   "metadata": {},
   "source": [
    "# Coleccions de python\n",
    "- Listas/lists []\n",
    "- Tuplas ()\n",
    "- Conjuntos/sets {}\n",
    "- Diccionarios/Dictionaries {\"key\":value}"
   ]
  },
  {
   "attachments": {},
   "cell_type": "markdown",
   "metadata": {},
   "source": [
    "# Array\n",
    "- Elemento: valor almacenado\n",
    "- Indice: Referencia a la posicion del elemento\n",
    "\n",
    "En a memoria los arrays se almacenan de manera consecutiva, los bits se guardan casilla por casilla consecutivamente.\n",
    "\n",
    "## Restrictivos\n",
    "No puede:\n",
    "- Agregar posiciones\n",
    "- Remover posiciones\n",
    "- Modificar su tamaño\n",
    "- Su capacidad se define al crearse\n",
    "\n",
    "**Donde utilizar:**\n",
    "\n",
    "- Un videojuego con sprites de 100x100 px\n",
    "- opciones en un menu\n"
   ]
  }
 ],
 "metadata": {
  "kernelspec": {
   "display_name": "py39",
   "language": "python",
   "name": "python3"
  },
  "language_info": {
   "codemirror_mode": {
    "name": "ipython",
    "version": 3
   },
   "file_extension": ".py",
   "mimetype": "text/x-python",
   "name": "python",
   "nbconvert_exporter": "python",
   "pygments_lexer": "ipython3",
   "version": "3.9.16"
  },
  "orig_nbformat": 4
 },
 "nbformat": 4,
 "nbformat_minor": 2
}
