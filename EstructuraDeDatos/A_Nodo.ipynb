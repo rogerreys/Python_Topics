{
 "cells": [
  {
   "attachments": {},
   "cell_type": "markdown",
   "metadata": {},
   "source": [
    "# NODOS Y SINGLY LINKED LIST\n",
    "## SINGLY LINKED LIST O LINKED STRUCTURE\n",
    "- Consiste de nodos conectados a otros\n",
    "- Los mas comunes son sencillo o dobles\n",
    "- No se accede por indice, sino por recorrido\n",
    "\n",
    "### Conceptos clave\n",
    "- Data: Será el valor albergado en un nodo.\n",
    "- Next: Es la referencia al siguiente nodo en la lista\n",
    "- Previous: Será el nodo anterior.\n",
    "- Head: Hace referencia al primer nodo en la lista\n",
    "- Tail: Hace referencia al último nodo.\n",
    "\n",
    "### Implementacion\n",
    "- Los nodos nos sirven para crear otras estructuras más complejas, como Stacks, Queues, las llamadas pilas y colas. Es posible optimizar partes del código usando nodos.\n",
    "\n",
    "### Double Linked Structure\n",
    "Estos hacen que el nodo haga referencia al siguiente nodo y al anterior, es decir nos va a permitir ir en ambas direcciones. También nos permitirá realizar “formas” y contextos circulares.\n",
    "\n",
    "- El ejemplo clave aquí será función de ctrl+z y ctrl+y Estas opciones nos permiten hacer y deshacer un proceso en Windows.\n",
    "\n",
    "- El historial del navegador también es un buen ejemplo al permitirnos navegar entre el pasado y el presente.\n"
   ]
  },
  {
   "attachments": {},
   "cell_type": "markdown",
   "metadata": {},
   "source": [
    "# Crear Nodos\n",
    "- Creamos una clse Node\n",
    "- Referimos valores\n",
    "- unimos nodos iterando"
   ]
  },
  {
   "cell_type": "code",
   "execution_count": 2,
   "metadata": {},
   "outputs": [
    {
     "name": "stdout",
     "output_type": "stream",
     "text": [
      "3 <A_node.Node object at 0x000002046FD09F40>\n",
      "2 <A_node.Node object at 0x000002046FD098B0>\n",
      "1 <A_node.Node object at 0x000002046FD09790>\n",
      "0 None\n"
     ]
    }
   ],
   "source": [
    "from A_node import Node\n",
    "\n",
    "node1 = Node(\"C\")\n",
    "node2 = Node(\"A\", node1)\n",
    "node3 = Node(\"B\", node2)\n",
    "\n",
    "# print(node1.data, node1.next)\n",
    "# print(node2.data, node2.next.data)\n",
    "# print(node3.data, node3.next.data)\n",
    "\n",
    "head = None\n",
    "for i in range(4):\n",
    "    head = Node(i, head)\n",
    "\n",
    "while head!=None:\n",
    "    print(head.data, head.next)\n",
    "    head = head.next"
   ]
  },
  {
   "attachments": {},
   "cell_type": "markdown",
   "metadata": {},
   "source": [
    "# Crear Single Lin"
   ]
  },
  {
   "cell_type": "code",
   "execution_count": 1,
   "metadata": {},
   "outputs": [
    {
     "name": "stdout",
     "output_type": "stream",
     "text": [
      "Vale Lucas Maria Ana\n",
      "El dato Pepe no existe\n",
      "Sin datos\n",
      "Vale Lucas Maria Ana\n",
      "El dato Pepe no existe\n",
      "Sin datos\n"
     ]
    }
   ],
   "source": [
    "from A_linked_list import SinglyLinkedList\n",
    "\n",
    "sll = SinglyLinkedList()\n",
    "sll.append(\"Vale\")\n",
    "sll.append(\"Lucas\")\n",
    "sll.append(\"Maria\")\n",
    "sll.append(\"Ana\")\n",
    "sll.__str__()\n",
    "\n",
    "sll.search(\"Pepe\")\n",
    "\n",
    "sll.clear()\n",
    "sll.__str__()"
   ]
  }
 ],
 "metadata": {
  "kernelspec": {
   "display_name": "py39",
   "language": "python",
   "name": "python3"
  },
  "language_info": {
   "codemirror_mode": {
    "name": "ipython",
    "version": 3
   },
   "file_extension": ".py",
   "mimetype": "text/x-python",
   "name": "python",
   "nbconvert_exporter": "python",
   "pygments_lexer": "ipython3",
   "version": "3.9.16"
  },
  "orig_nbformat": 4
 },
 "nbformat": 4,
 "nbformat_minor": 2
}
