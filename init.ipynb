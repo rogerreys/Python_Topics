{
 "cells": [
  {
   "attachments": {},
   "cell_type": "markdown",
   "metadata": {},
   "source": [
    "# CHARACTER CLASSES\n",
    "|Name|Sign|Description|\n",
    "|---|---|---|\n",
    "|`dot`|(.)|Matches any character except linebreaks. Equivalent to [^\\n\\r].|\n",
    "|`digit`|\\d|Matches any digit character (0-9). Equivalent to [0-9].|\n",
    "|`word`|\\w|Matches any word character (alphanumeric & underscore). Only matches low-ascii characters (no accented or non-roman characters). Equivalent to [A-Za-z0-9_]|\n",
    "|`whitespace`|\\s|Matches any whitespace character (spaces, tabs, line breaks).|\n",
    "|`range`|[a-z]|Matches a character having a character code between the two specified characters inclusive.|\n",
    "|`only dot`|\\\\.|Seleciona los puntos|\n",
    "|`not word`|\\W|Matches any character that is not a word character (alphanumeric & underscore). Equivalent to [^A-Za-z0-9_]|\n",
    "|`not digit`|\\D|Matches any character that is not a digit character (0-9). Equivalent to [^0-9].|\n",
    "|`not whitespace`|\\S|Matches any character that is not a whitespace character (spaces, tabs, line breaks).|\n",
    "|`negated set`|[^ABC]|Match any character that is not in the set.|"
   ]
  },
  {
   "attachments": {},
   "cell_type": "markdown",
   "metadata": {},
   "source": [
    "# QUANTIFIERS & ALTERNATION\n",
    "|Name|Sign|Description|\n",
    "|---|---|---|\n",
    "|star|*|Matches 0 or more of the preceding token.|\n",
    "|plus|+|Matches 1 or more of the preceding token.|\n",
    "|optional|?|Matches 0 or 1 of the preceding token, effectively making it optional.|\n",
    "|lazy|?|Makes the preceding quantifier lazy, causing it to match as few characters as possible. By default, quantifiers are greedy, and will match as many characters as possible.|\n",
    "|quantifier|{1,3}|Matches the specified quantity of the previous token. {1,3} will match 1 to 3. {3} will match exactly 3. {3,} will match 3 or more.|\n",
    "\n",
    "## Explicacion\n",
    "`?` → Indica que el carácter que le precede puede **aparecer como mucho una vez**. Por ejemplo, “ob?scuro” se corresponde con oscuro y obscuro.\n",
    "\n",
    "`+` → Indica que el carácter que le precede debe **aparecer al menos una vez**. Por ejemplo, “ho+la” describe el conjunto infinito hola, hoola, hooola, hoooola, etcétera.\n",
    "\n",
    "`*` → Indica que el carácter que le precede puede **aparecer cero, una, o más veces**. Por ejemplo, “0*42” se corresponde con 42, 042, 0042, 00042, etcétera."
   ]
  },
  {
   "attachments": {},
   "cell_type": "markdown",
   "metadata": {},
   "source": [
    "# EJEMPLOS\n",
    "- 5556581111\n",
    "- 56-58-11-12-90\n",
    "- 56.58.11.12.90\n",
    "- 56 58 11 12 90\n",
    "\n",
    "```code\n",
    "(\\d{2,2}[\\-\\.]?){5}\n",
    "(\\d{2,2}[\\-\\.\\s]?){5}\n",
    "```\n"
   ]
  }
 ],
 "metadata": {
  "language_info": {
   "name": "python"
  },
  "orig_nbformat": 4
 },
 "nbformat": 4,
 "nbformat_minor": 2
}
