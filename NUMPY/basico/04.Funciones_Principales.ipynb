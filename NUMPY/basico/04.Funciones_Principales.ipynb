{
 "cells": [
  {
   "attachments": {},
   "cell_type": "markdown",
   "metadata": {},
   "source": [
    "# Funciones Principales"
   ]
  },
  {
   "cell_type": "code",
   "execution_count": 1,
   "metadata": {},
   "outputs": [],
   "source": [
    "import numpy as np"
   ]
  },
  {
   "cell_type": "code",
   "execution_count": 6,
   "metadata": {},
   "outputs": [
    {
     "data": {
      "text/plain": [
       "array([17, 12, 17, 12,  6,  7, 12,  8, 16,  3])"
      ]
     },
     "execution_count": 6,
     "metadata": {},
     "output_type": "execute_result"
    }
   ],
   "source": [
    "arr = np.random.randint(1,20,10)\n",
    "arr"
   ]
  },
  {
   "cell_type": "code",
   "execution_count": 11,
   "metadata": {},
   "outputs": [
    {
     "data": {
      "text/plain": [
       "array([[17, 12, 17, 12,  6],\n",
       "       [ 7, 12,  8, 16,  3]])"
      ]
     },
     "execution_count": 11,
     "metadata": {},
     "output_type": "execute_result"
    }
   ],
   "source": [
    "matriz = arr.reshape(2,5)\n",
    "matriz"
   ]
  },
  {
   "cell_type": "code",
   "execution_count": 49,
   "metadata": {},
   "outputs": [
    {
     "name": "stdout",
     "output_type": "stream",
     "text": [
      "Valore max  17\n",
      "Max por filas  [17 16]\n",
      "Max por columnas  [17 12 17 16  6]\n",
      "indice valor max matriz  0\n",
      "Indice valor max 0\n"
     ]
    }
   ],
   "source": [
    "print(\"Valore max \",matriz.max())\n",
    "\n",
    "# Sacar maximo por filas\n",
    "print(\"Max por filas \",matriz.max(1))\n",
    "\n",
    "# Sacar maximo por columnas\n",
    "print(\"Max por columnas \", matriz.max(0))\n",
    "\n",
    "# indica el indice del valor maximo\n",
    "print(\"indice valor max matriz \", matriz.argmax())\n",
    "\n",
    "# indica el indice del valor maximo\n",
    "print(\"Indice valor max\",arr.argmax())"
   ]
  },
  {
   "attachments": {},
   "cell_type": "markdown",
   "metadata": {},
   "source": [
    "## Valores Menores"
   ]
  },
  {
   "cell_type": "code",
   "execution_count": 50,
   "metadata": {},
   "outputs": [
    {
     "name": "stdout",
     "output_type": "stream",
     "text": [
      "Valor menor 3\n"
     ]
    }
   ],
   "source": [
    "print(\"Valor menor\", arr.min())"
   ]
  },
  {
   "cell_type": "code",
   "execution_count": 53,
   "metadata": {},
   "outputs": [
    {
     "name": "stdout",
     "output_type": "stream",
     "text": [
      "Valor menor matriz 3\n",
      "Indice valor menor 9\n",
      "Indice valor menor matriz 9\n"
     ]
    }
   ],
   "source": [
    "print(\"Valor menor matriz\", matriz.min())\n",
    "print(\"Indice valor menor\", arr.argmin())\n",
    "print(\"Indice valor menor matriz\", matriz.argmin())\n"
   ]
  },
  {
   "attachments": {},
   "cell_type": "markdown",
   "metadata": {},
   "source": [
    "# Direfencia entre pico mas alto y el mas bajo"
   ]
  },
  {
   "cell_type": "code",
   "execution_count": 54,
   "metadata": {},
   "outputs": [
    {
     "name": "stdout",
     "output_type": "stream",
     "text": [
      "[17 12 17 12  6  7 12  8 16  3]\n",
      "ptp arr 14\n"
     ]
    }
   ],
   "source": [
    "print(arr)\n",
    "print(\"ptp arr\", arr.ptp())"
   ]
  },
  {
   "cell_type": "code",
   "execution_count": 57,
   "metadata": {},
   "outputs": [
    {
     "name": "stdout",
     "output_type": "stream",
     "text": [
      "[[17 12 17 12  6]\n",
      " [ 7 12  8 16  3]]\n",
      "ptp matriz 14\n",
      "ptp matriz columna [10  0  9  4  3]\n",
      "ptp matriz filas [11 13]\n"
     ]
    }
   ],
   "source": [
    "print(matriz)\n",
    "print(\"ptp matriz\", matriz.ptp())\n",
    "# ptp en matriz en columnas\n",
    "print(\"ptp matriz columna\", matriz.ptp(0))\n",
    "# ptp en matriz en filas\n",
    "print(\"ptp matriz filas\", matriz.ptp(1))\n"
   ]
  },
  {
   "attachments": {},
   "cell_type": "markdown",
   "metadata": {},
   "source": [
    "## Percentil"
   ]
  },
  {
   "cell_type": "code",
   "execution_count": 65,
   "metadata": {},
   "outputs": [
    {
     "name": "stdout",
     "output_type": "stream",
     "text": [
      "[ 3  6  7  8 12 12 12 16 17 17]\n",
      "Percentil valor alto  17.0\n",
      "Percentil valor mitad  12.0\n",
      "Percentil valor bajo  3.0\n"
     ]
    }
   ],
   "source": [
    "print(arr)\n",
    "print(\"Percentil valor alto \",np.percentile(arr, 100))\n",
    "print(\"Percentil valor mitad \",np.percentile(arr, 50))\n",
    "print(\"Percentil valor bajo \",np.percentile(arr, 0))"
   ]
  },
  {
   "cell_type": "code",
   "execution_count": 66,
   "metadata": {},
   "outputs": [
    {
     "name": "stdout",
     "output_type": "stream",
     "text": [
      "None\n"
     ]
    }
   ],
   "source": [
    "print(\"Ordena el codigo \", arr.sort())"
   ]
  },
  {
   "attachments": {},
   "cell_type": "markdown",
   "metadata": {},
   "source": [
    "## Mediana"
   ]
  },
  {
   "cell_type": "code",
   "execution_count": 70,
   "metadata": {},
   "outputs": [
    {
     "name": "stdout",
     "output_type": "stream",
     "text": [
      "[ 3  6  7  8 12 12 12 16 17 17]\n",
      "mediana de arr 12.0\n",
      "[[ 3  6  7  8 12]\n",
      " [12 12 16 17 17]]\n",
      "mediana de matriz por columna [ 7.5  9.  11.5 12.5 14.5]\n",
      "mediana de matriz por fila [ 7. 16.]\n"
     ]
    }
   ],
   "source": [
    "print(arr)\n",
    "print(\"mediana de arr\" ,np.median(arr))\n",
    "print(matriz)\n",
    "print(\"mediana de matriz por columna\" ,np.median(matriz, 0))\n",
    "print(\"mediana de matriz por fila\" ,np.median(matriz, 1))"
   ]
  },
  {
   "attachments": {},
   "cell_type": "markdown",
   "metadata": {},
   "source": [
    "## Desviacion estandar"
   ]
  },
  {
   "cell_type": "code",
   "execution_count": 77,
   "metadata": {},
   "outputs": [
    {
     "name": "stdout",
     "output_type": "stream",
     "text": [
      "Desv Est arr 4.626013402488151\n",
      "varianza 21.4\n"
     ]
    }
   ],
   "source": [
    "print(\"Desv Est arr\",np.std(arr))\n",
    "print(\"varianza\",np.std(arr)**2)"
   ]
  },
  {
   "attachments": {},
   "cell_type": "markdown",
   "metadata": {},
   "source": [
    "# Varianza"
   ]
  },
  {
   "cell_type": "code",
   "execution_count": 76,
   "metadata": {},
   "outputs": [
    {
     "name": "stdout",
     "output_type": "stream",
     "text": [
      "Varianza arr 21.4\n"
     ]
    }
   ],
   "source": [
    "print(\"Varianza arr\",np.var(arr))"
   ]
  },
  {
   "attachments": {},
   "cell_type": "markdown",
   "metadata": {},
   "source": [
    "# Media"
   ]
  },
  {
   "cell_type": "code",
   "execution_count": 79,
   "metadata": {},
   "outputs": [
    {
     "name": "stdout",
     "output_type": "stream",
     "text": [
      "11.0\n"
     ]
    }
   ],
   "source": [
    "print(np.mean(arr))"
   ]
  },
  {
   "attachments": {},
   "cell_type": "markdown",
   "metadata": {},
   "source": [
    "## Concatenar"
   ]
  },
  {
   "cell_type": "code",
   "execution_count": 87,
   "metadata": {},
   "outputs": [
    {
     "name": "stdout",
     "output_type": "stream",
     "text": [
      "array a \n",
      " [[8 4]\n",
      " [3 2]]\n",
      "array b \n",
      " [[1 6]\n",
      " [1 1]]\n",
      "Concatenate\n",
      " [[8 4]\n",
      " [3 2]\n",
      " [1 6]\n",
      " [1 1]]\n"
     ]
    }
   ],
   "source": [
    "a = np.random.randint(1,10, (2,2))\n",
    "print(\"array a \\n\",a)\n",
    "b = np.random.randint(1,10, (2,2))\n",
    "print(\"array b \\n\",b)\n",
    "print(\"Concatenate\\n\", np.concatenate((a,b), axis=0))"
   ]
  }
 ],
 "metadata": {
  "kernelspec": {
   "display_name": "py39",
   "language": "python",
   "name": "python3"
  },
  "language_info": {
   "codemirror_mode": {
    "name": "ipython",
    "version": 3
   },
   "file_extension": ".py",
   "mimetype": "text/x-python",
   "name": "python",
   "nbconvert_exporter": "python",
   "pygments_lexer": "ipython3",
   "version": "3.9.16"
  },
  "orig_nbformat": 4,
  "vscode": {
   "interpreter": {
    "hash": "8774d1c108ba2c4e66a48cedc9122600b0b789622c9e14bae49099cba0407836"
   }
  }
 },
 "nbformat": 4,
 "nbformat_minor": 2
}
