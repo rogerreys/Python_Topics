{
 "cells": [
  {
   "attachments": {},
   "cell_type": "markdown",
   "metadata": {},
   "source": [
    "# Copy"
   ]
  },
  {
   "cell_type": "code",
   "execution_count": 1,
   "metadata": {},
   "outputs": [],
   "source": [
    "import numpy as np"
   ]
  },
  {
   "cell_type": "code",
   "execution_count": 7,
   "metadata": {},
   "outputs": [
    {
     "name": "stdout",
     "output_type": "stream",
     "text": [
      "origin  [ 1 39 33  5  7 23 34 24 34 37 37  1  3 26 13  4 22 22  7  6]\n",
      "new version  [ 1 39 33  5  7 23]\n",
      "origin  [ 0  0  0  0  0  0 34 24 34 37 37  1  3 26 13  4 22 22  7  6]\n"
     ]
    }
   ],
   "source": [
    "arr = np.random.randint(0,40,20)\n",
    "print(\"origin \",arr)\n",
    "arr_part1 = arr[0:6]\n",
    "print(\"new version \",arr_part1)\n",
    "arr_part1[:] = 0\n",
    "print(\"origin \",arr) # El original a sido modificado indirectamente"
   ]
  },
  {
   "cell_type": "code",
   "execution_count": 9,
   "metadata": {},
   "outputs": [
    {
     "name": "stdout",
     "output_type": "stream",
     "text": [
      "copia  [ 0  0  0  0  0  0 34 24 34 37 37  1  3 26 13  4 22 22  7  6]\n",
      "copia  [1000 1000 1000 1000 1000 1000 1000 1000 1000 1000 1000 1000 1000 1000\n",
      " 1000 1000 1000 1000 1000 1000]\n",
      "origina  [ 0  0  0  0  0  0 34 24 34 37 37  1  3 26 13  4 22 22  7  6]\n"
     ]
    }
   ],
   "source": [
    "arr_copy = arr.copy()\n",
    "print(\"copia \", arr_copy)\n",
    "arr_copy[:] = 1000\n",
    "print(\"copia \", arr_copy)\n",
    "print(\"origina \", arr)"
   ]
  }
 ],
 "metadata": {
  "kernelspec": {
   "display_name": "py39",
   "language": "python",
   "name": "python3"
  },
  "language_info": {
   "codemirror_mode": {
    "name": "ipython",
    "version": 3
   },
   "file_extension": ".py",
   "mimetype": "text/x-python",
   "name": "python",
   "nbconvert_exporter": "python",
   "pygments_lexer": "ipython3",
   "version": "3.9.16"
  },
  "orig_nbformat": 4,
  "vscode": {
   "interpreter": {
    "hash": "8774d1c108ba2c4e66a48cedc9122600b0b789622c9e14bae49099cba0407836"
   }
  }
 },
 "nbformat": 4,
 "nbformat_minor": 2
}
