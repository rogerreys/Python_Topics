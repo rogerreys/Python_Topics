{
 "cells": [
  {
   "attachments": {},
   "cell_type": "markdown",
   "metadata": {},
   "source": [
    "# Condiciones"
   ]
  },
  {
   "cell_type": "code",
   "execution_count": 2,
   "metadata": {},
   "outputs": [],
   "source": [
    "import numpy as np"
   ]
  },
  {
   "cell_type": "code",
   "execution_count": 11,
   "metadata": {},
   "outputs": [
    {
     "name": "stdout",
     "output_type": "stream",
     "text": [
      "[ 1.  2.  3.  4.  5.  6.  7.  8.  9. 10.]\n",
      "Valor mayores: [False False False False False  True  True  True  True  True]\n",
      "Mostrar valores mayores [ 6.  7.  8.  9. 10.]\n",
      "Valor menores: [ True  True  True  True False False False False False False]\n",
      "Mostrar valores menores [1. 2. 3. 4.]\n",
      "\n",
      "\n"
     ]
    }
   ],
   "source": [
    "arr = np.linspace(1,10,10, dtype='float')\n",
    "print(arr)\n",
    "indice_mayor = arr>5\n",
    "print(\"Valor mayores:\", indice_mayor)\n",
    "print(\"Mostrar valores mayores\",arr[indice_mayor])\n",
    "\n",
    "indice_menor = arr<5\n",
    "print(f\"Valor menores: {indice_menor}\")\n",
    "print(f\"Mostrar valores menores {arr[indice_menor]}\", end=\"\\n\"*3)"
   ]
  },
  {
   "attachments": {},
   "cell_type": "markdown",
   "metadata": {},
   "source": [
    "## And y Or"
   ]
  },
  {
   "cell_type": "code",
   "execution_count": 18,
   "metadata": {},
   "outputs": [
    {
     "name": "stdout",
     "output_type": "stream",
     "text": [
      "And [3. 4. 5. 6.]\n",
      "Valores cambiados [  1.   2.   3.   4.   5.   6. 100. 100. 100. 100.]\n",
      "Igual igual [100. 100. 100. 100.]\n"
     ]
    }
   ],
   "source": [
    "print(f\"And {arr[(arr>2) & (arr<7)]}\")\n",
    "arr[arr>6] = 100\n",
    "print(f\"Valores cambiados {arr}\")\n",
    "print(f\"Igual igual {arr[arr==100]}\")"
   ]
  },
  {
   "attachments": {},
   "cell_type": "markdown",
   "metadata": {},
   "source": [
    "## Where"
   ]
  },
  {
   "cell_type": "code",
   "execution_count": 22,
   "metadata": {},
   "outputs": [
    {
     "name": "stdout",
     "output_type": "stream",
     "text": [
      "[[ 9 62 20 80 11]\n",
      " [86 10 37  4 55]\n",
      " [88 13 45 81 73]]\n",
      "where(condicion, valor si cumple, si no cumple)\n",
      "[[1 0 1 0 1]\n",
      " [0 1 1 1 0]\n",
      " [0 1 1 0 0]]\n"
     ]
    }
   ],
   "source": [
    "matriz = np.random.randint(1,100, (3,5))\n",
    "print(matriz)\n",
    "print(\"where(condicion, valor si cumple, si no cumple)\")\n",
    "print(np.where(matriz>50,0,1))\n"
   ]
  },
  {
   "cell_type": "code",
   "execution_count": 31,
   "metadata": {},
   "outputs": [
    {
     "data": {
      "text/plain": [
       "array([ 1.        ,  6.21052632, 11.42105263, 16.63157895, 21.84210526,\n",
       "       27.05263158, 32.26315789, 37.47368421, 42.68421053, 47.89473684])"
      ]
     },
     "execution_count": 31,
     "metadata": {},
     "output_type": "execute_result"
    }
   ],
   "source": [
    "a = np.linspace(1,100,20,dtype=\"float\")\n",
    "a[(a<50)]"
   ]
  }
 ],
 "metadata": {
  "kernelspec": {
   "display_name": "py39",
   "language": "python",
   "name": "python3"
  },
  "language_info": {
   "codemirror_mode": {
    "name": "ipython",
    "version": 3
   },
   "file_extension": ".py",
   "mimetype": "text/x-python",
   "name": "python",
   "nbconvert_exporter": "python",
   "pygments_lexer": "ipython3",
   "version": "3.9.16"
  },
  "orig_nbformat": 4,
  "vscode": {
   "interpreter": {
    "hash": "8774d1c108ba2c4e66a48cedc9122600b0b789622c9e14bae49099cba0407836"
   }
  }
 },
 "nbformat": 4,
 "nbformat_minor": 2
}
